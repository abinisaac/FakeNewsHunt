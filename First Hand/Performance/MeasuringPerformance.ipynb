{
  "nbformat": 4,
  "nbformat_minor": 0,
  "metadata": {
    "colab": {
      "name": "MeasuringPerformance.ipynb",
      "private_outputs": true,
      "provenance": [],
      "collapsed_sections": []
    },
    "kernelspec": {
      "name": "python3",
      "display_name": "Python 3"
    },
    "language_info": {
      "name": "python"
    }
  },
  "cells": [
    {
      "cell_type": "markdown",
      "source": [
        "*Measuring model performance*"
      ],
      "metadata": {
        "id": "DkzhpIAblT_e"
      }
    },
    {
      "cell_type": "code",
      "execution_count": null,
      "metadata": {
        "id": "MiwK_BhOlTB0"
      },
      "outputs": [],
      "source": [
        "score=accuracy_score(y_test,y_pred)\n",
        "print(f'Accuracy: {round(score*100,2)}%')\n",
        "print(f\"Confusion matrix is \\n {confusion_matrix(y_test,y_pred, labels=['FAKE','REAL'])}\")"
      ]
    }
  ]
}