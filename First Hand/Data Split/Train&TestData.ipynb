{
  "nbformat": 4,
  "nbformat_minor": 0,
  "metadata": {
    "colab": {
      "name": "Train&TestData.ipynb",
      "private_outputs": true,
      "provenance": [],
      "collapsed_sections": [],
      "authorship_tag": "ABX9TyNvsh225umnVifoVWHzN4wd",
      "include_colab_link": true
    },
    "kernelspec": {
      "name": "python3",
      "display_name": "Python 3"
    },
    "language_info": {
      "name": "python"
    }
  },
  "cells": [
    {
      "cell_type": "markdown",
      "metadata": {
        "id": "view-in-github",
        "colab_type": "text"
      },
      "source": [
        "<a href=\"https://colab.research.google.com/github/abinisaac/FakeNewsHunt/blob/First_Branch/First%20Hand/Data%20Split/Train%26TestData.ipynb\" target=\"_parent\"><img src=\"https://colab.research.google.com/assets/colab-badge.svg\" alt=\"Open In Colab\"/></a>"
      ]
    },
    {
      "cell_type": "markdown",
      "source": [
        "*We will seperate the News text and corresponding labels (REAL or FAKE)*"
      ],
      "metadata": {
        "id": "mmtQaxFOs_NE"
      }
    },
    {
      "cell_type": "code",
      "execution_count": null,
      "metadata": {
        "id": "zhfvrDiIkv75"
      },
      "outputs": [],
      "source": [
        "#Get the labels\n",
        "labels=df.label\n",
        "text = df.text\n",
        "labels.head()"
      ]
    },
    {
      "cell_type": "markdown",
      "source": [
        "*We will break our data into 4 series x_train, y_train, x_test,  y_test having 40%, 40%, 10% and 10% datapoints respectively.*"
      ],
      "metadata": {
        "id": "EnJDKE1ivche"
      }
    },
    {
      "cell_type": "markdown",
      "source": [
        "*Here our train test ratio is 80:20. Inorder to keep the train and test data points unchanged after every run we will specify a random_state value.*"
      ],
      "metadata": {
        "id": "N5hJoXcq0A6w"
      }
    },
    {
      "cell_type": "code",
      "source": [
        "#Split the dataset\n",
        "x_train,x_test,y_train,y_test=train_test_split(text, labels, test_size=0.2, random_state=7)"
      ],
      "metadata": {
        "id": "kAMeNsEWssA6"
      },
      "execution_count": null,
      "outputs": []
    }
  ]
}