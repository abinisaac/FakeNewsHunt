{
  "nbformat": 4,
  "nbformat_minor": 0,
  "metadata": {
    "colab": {
      "name": "ReadingData.ipynb",
      "private_outputs": true,
      "provenance": [],
      "collapsed_sections": []
    },
    "kernelspec": {
      "name": "python3",
      "display_name": "Python 3"
    },
    "language_info": {
      "name": "python"
    }
  },
  "cells": [
    {
      "cell_type": "markdown",
      "source": [
        "*After loading & mounting google drive we will have the first glimpses of data using DataFrame object*"
      ],
      "metadata": {
        "id": "DkzhpIAblT_e"
      }
    },
    {
      "cell_type": "code",
      "execution_count": null,
      "metadata": {
        "id": "MiwK_BhOlTB0"
      },
      "outputs": [],
      "source": [
        "from google.colab import drive\n",
        "drive.mount(\"/content/drive/\")\n",
        "df = pd.read_csv('/content/drive/MyDrive/news.csv')\n",
        "df.head(10)"
      ]
    },
    {
      "cell_type": "code",
      "source": [
        "print(f\"This data has {df.shape[0]} rows and {df.shape[1]} columns.\", end = \"\\n\\n\")\n",
        "print(\"Data starts with  :\")\n",
        "print(df.head(), end = \"\\n\\n\")\n",
        "print(\"and Data ends with  :\")\n",
        "print(df.tail())"
      ],
      "metadata": {
        "id": "QvgiAtzNlWyu"
      },
      "execution_count": null,
      "outputs": []
    },
    {
      "cell_type": "markdown",
      "source": [
        "*After that we will check the null values and remove an unwanted column from the Dataframe*"
      ],
      "metadata": {
        "id": "5JvwphUFleZn"
      }
    },
    {
      "cell_type": "code",
      "source": [
        "df.isnull().any()"
      ],
      "metadata": {
        "id": "XljwCvnglf-k"
      },
      "execution_count": null,
      "outputs": []
    },
    {
      "cell_type": "code",
      "source": [
        "df=df.drop(columns ='Unnamed: 0')"
      ],
      "metadata": {
        "id": "HBERyFIrlivc"
      },
      "execution_count": null,
      "outputs": []
    }
  ]
}