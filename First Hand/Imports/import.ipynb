{
  "nbformat": 4,
  "nbformat_minor": 0,
  "metadata": {
    "colab": {
      "name": "import.ipynb",
      "private_outputs": true,
      "provenance": [],
      "collapsed_sections": [],
      "authorship_tag": "ABX9TyMcSFIjR2bNlGik0do6mEWz",
      "include_colab_link": true
    },
    "kernelspec": {
      "name": "python3",
      "display_name": "Python 3"
    },
    "language_info": {
      "name": "python"
    }
  },
  "cells": [
    {
      "cell_type": "markdown",
      "metadata": {
        "id": "view-in-github",
        "colab_type": "text"
      },
      "source": [
        "<a href=\"https://colab.research.google.com/github/abinisaac/FakeNewsHunt/blob/First_Branch/First%20Hand/Imports/import.ipynb\" target=\"_parent\"><img src=\"https://colab.research.google.com/assets/colab-badge.svg\" alt=\"Open In Colab\"/></a>"
      ]
    },
    {
      "cell_type": "code",
      "execution_count": null,
      "metadata": {
        "id": "zhfvrDiIkv75"
      },
      "outputs": [],
      "source": [
        "import pandas as pd\n",
        "from sklearn.model_selection import train_test_split\n",
        "from sklearn.feature_extraction.text import TfidfVectorizer\n",
        "from sklearn.linear_model import PassiveAggressiveClassifier\n",
        "from sklearn.metrics import accuracy_score, confusion_matrix"
      ]
    },
    {
      "cell_type": "markdown",
      "source": [
        "*In order to detect the **Fake news** we have to deal with a lot of text data and we will be using a couple of predefined Classes, Functions e*tc.\n",
        "\n",
        "> ***Pandas*** *- With this module we will load, clean and make data perfect for creating model.*\n",
        "\n",
        ">***train_test_split*** *- With this SciKit function we will split our data into training and testing datasets.*\n",
        "\n",
        "> ***TfidfVectorizer*** *- With this SciKit module class we will create numerical data from words on the basis of document level word frequency.*\n",
        "\n",
        "> ***PassiveAggressiveClassifier*** *- With this Online Learning algo  we will train and test the ML model which remains passive for correct predictions and aggressive for incorrect predictions.*\n",
        "\n",
        "> ***Accuracy Score*** *- With this SciKit fucntion will find the ratio between the correct predictions and the total predictions*\n",
        "\n",
        "> ***Confusion Matrix*** *- THis Scikit function will be used to measure the performance of our model*\n",
        "\n",
        "\n",
        "\n",
        "\n"
      ],
      "metadata": {
        "id": "mbaHZDgiz-F3"
      }
    }
  ]
}