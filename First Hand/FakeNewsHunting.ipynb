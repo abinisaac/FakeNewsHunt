{
  "nbformat": 4,
  "nbformat_minor": 0,
  "metadata": {
    "colab": {
      "name": "FakeNewsHunting",
      "private_outputs": true,
      "provenance": [],
      "authorship_tag": "ABX9TyM815rx8vn0EvqJIW8tdEo2",
      "include_colab_link": true
    },
    "kernelspec": {
      "name": "python3",
      "display_name": "Python 3"
    },
    "language_info": {
      "name": "python"
    }
  },
  "cells": [
    {
      "cell_type": "markdown",
      "metadata": {
        "id": "view-in-github",
        "colab_type": "text"
      },
      "source": [
        "<a href=\"https://colab.research.google.com/github/abinisaac/FakeNewsHunt/blob/First_Branch/First%20Hand/FakeNewsHunting.ipynb\" target=\"_parent\"><img src=\"https://colab.research.google.com/assets/colab-badge.svg\" alt=\"Open In Colab\"/></a>"
      ]
    },
    {
      "cell_type": "markdown",
      "source": [
        "*Importing needed libraries*"
      ],
      "metadata": {
        "id": "nWs8rP6qtIZf"
      }
    },
    {
      "cell_type": "code",
      "source": [
        "import numpy as np\n",
        "import pandas as pd\n",
        "import itertools\n",
        "from sklearn.model_selection import train_test_split\n",
        "from sklearn.feature_extraction.text import TfidfVectorizer\n",
        "from sklearn.linear_model import PassiveAggressiveClassifier\n",
        "from sklearn.metrics import accuracy_score, confusion_matrix"
      ],
      "metadata": {
        "id": "LJ9Sn4rWmqoP"
      },
      "execution_count": null,
      "outputs": []
    },
    {
      "cell_type": "markdown",
      "source": [
        "*Loading data from google drive*"
      ],
      "metadata": {
        "id": "LhaT3dDQtN-c"
      }
    },
    {
      "cell_type": "code",
      "execution_count": null,
      "metadata": {
        "id": "2uii8rGgm8JK"
      },
      "outputs": [],
      "source": [
        "from google.colab import drive\n",
        "drive.mount(\"/content/drive/\")\n",
        "df = pd.read_csv('/content/drive/MyDrive/news.csv')\n",
        "df.head(10)"
      ]
    },
    {
      "cell_type": "markdown",
      "source": [
        "*First glimpses of data*"
      ],
      "metadata": {
        "id": "BAMwJWkrvkCA"
      }
    },
    {
      "cell_type": "code",
      "source": [
        "print(f\"This data has {df.shape[0]} rows and {df.shape[1]} columns.\", end = \"\\n\\n\")\n",
        "print(\"Data starts with  :\")\n",
        "print(df.head(), end = \"\\n\\n\")\n",
        "print(\"and Data ends with  :\")\n",
        "print(df.tail())"
      ],
      "metadata": {
        "id": "QRgVlVAumwUe"
      },
      "execution_count": null,
      "outputs": []
    },
    {
      "cell_type": "markdown",
      "source": [
        "*Checking the null values and droping an unwanted column*"
      ],
      "metadata": {
        "id": "FZD9Cmv5wVPn"
      }
    },
    {
      "cell_type": "code",
      "source": [
        "df.isnull().any()"
      ],
      "metadata": {
        "id": "wmraLxm_W5ut"
      },
      "execution_count": null,
      "outputs": []
    },
    {
      "cell_type": "code",
      "source": [
        "df=df.drop(columns ='Unnamed: 0')"
      ],
      "metadata": {
        "id": "LUucUc7fZY8I"
      },
      "execution_count": null,
      "outputs": []
    },
    {
      "cell_type": "markdown",
      "source": [
        "*Seperating the training and testing data*"
      ],
      "metadata": {
        "id": "t49zCzzmwjio"
      }
    },
    {
      "cell_type": "code",
      "source": [
        "#Get the labels\n",
        "labels=df.label\n",
        "labels.head()"
      ],
      "metadata": {
        "id": "q8Y6i34Hm2vU"
      },
      "execution_count": null,
      "outputs": []
    },
    {
      "cell_type": "code",
      "source": [
        "#Split the dataset\n",
        "x_train,x_test,y_train,y_test=train_test_split(df['text'], labels, test_size=0.2, random_state=7)"
      ],
      "metadata": {
        "id": "8_plHRHEm5kT"
      },
      "execution_count": null,
      "outputs": []
    },
    {
      "cell_type": "markdown",
      "source": [
        "*Removing the stop words and Vectorizing the data*"
      ],
      "metadata": {
        "id": "87wbLsbaww-o"
      }
    },
    {
      "cell_type": "code",
      "source": [
        "#Initialize a TfidfVectorizer\n",
        "tfidf_vectorizer=TfidfVectorizer(stop_words='english', max_df=0.7)\n",
        "#Fit and transform train set, transform test set\n",
        "tfidf_train=tfidf_vectorizer.fit_transform(x_train) \n",
        "tfidf_test=tfidf_vectorizer.transform(x_test)"
      ],
      "metadata": {
        "id": "5KYXBF4Zoicr"
      },
      "execution_count": null,
      "outputs": []
    },
    {
      "cell_type": "code",
      "source": [
        "type(tfidf_train)"
      ],
      "metadata": {
        "id": "H1iO7Dyj0nFV"
      },
      "execution_count": null,
      "outputs": []
    },
    {
      "cell_type": "markdown",
      "source": [
        "*Training and Testing*"
      ],
      "metadata": {
        "id": "21ZPwLrRw-1z"
      }
    },
    {
      "cell_type": "code",
      "source": [
        "#Initialize a PassiveAggressiveClassifier\n",
        "pac=PassiveAggressiveClassifier(max_iter=50)\n",
        "pac.fit(tfidf_train,y_train)\n",
        "#Predict on the test set and calculate accuracy\n",
        "y_pred=pac.predict(tfidf_test)\n"
      ],
      "metadata": {
        "id": "zItjosruopGk"
      },
      "execution_count": null,
      "outputs": []
    },
    {
      "cell_type": "markdown",
      "source": [
        "*Measuring model performance*"
      ],
      "metadata": {
        "id": "8Ga5CVh21KLQ"
      }
    },
    {
      "cell_type": "code",
      "source": [
        "score=accuracy_score(y_test,y_pred)\n",
        "print(f'Accuracy: {round(score*100,2)}%')\n",
        "print(f\"Confusion matrix is \\n {confusion_matrix(y_test,y_pred, labels=['FAKE','REAL'])}\")"
      ],
      "metadata": {
        "id": "Ofn6cxv0otG0"
      },
      "execution_count": null,
      "outputs": []
    }
  ]
}