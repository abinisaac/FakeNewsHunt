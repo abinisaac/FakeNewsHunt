{
  "nbformat": 4,
  "nbformat_minor": 0,
  "metadata": {
    "colab": {
      "name": "HandlingData.ipynb",
      "private_outputs": true,
      "provenance": [],
      "collapsed_sections": [],
      "authorship_tag": "ABX9TyM7hSPfHzoeJ5qA8bQwS5Jf",
      "include_colab_link": true
    },
    "kernelspec": {
      "name": "python3",
      "display_name": "Python 3"
    },
    "language_info": {
      "name": "python"
    }
  },
  "cells": [
    {
      "cell_type": "markdown",
      "metadata": {
        "id": "view-in-github",
        "colab_type": "text"
      },
      "source": [
        "<a href=\"https://colab.research.google.com/github/abinisaac/FakeNewsHunt/blob/First_Branch/First%20hand/Handling%20Data/HandlingData.ipynb\" target=\"_parent\"><img src=\"https://colab.research.google.com/assets/colab-badge.svg\" alt=\"Open In Colab\"/></a>"
      ]
    },
    {
      "cell_type": "markdown",
      "source": [
        "*After loading & mounting google drive we will have the first glimpses of data using DataFrame object.*"
      ],
      "metadata": {
        "id": "mmtQaxFOs_NE"
      }
    },
    {
      "cell_type": "code",
      "execution_count": null,
      "metadata": {
        "id": "zhfvrDiIkv75"
      },
      "outputs": [],
      "source": [
        "from google.colab import drive\n",
        "drive.mount(\"/content/drive/\")\n",
        "df = pd.read_csv('/content/drive/MyDrive/news.csv')\n",
        "df.head(10)"
      ]
    },
    {
      "cell_type": "code",
      "source": [
        "print(f\"This data has {df.shape[0]} rows and {df.shape[1]} columns.\", end = \"\\n\\n\")\n",
        "print(\"Data starts with  :\")\n",
        "print(df.head(), end = \"\\n\\n\")\n",
        "print(\"and Data ends with  :\")\n",
        "print(df.tail())"
      ],
      "metadata": {
        "id": "kM1JcV_mC8LQ"
      },
      "execution_count": null,
      "outputs": []
    },
    {
      "cell_type": "markdown",
      "source": [
        "*After that we will check the null values and remove an unwanted column from the Dataframe*"
      ],
      "metadata": {
        "id": "EnJDKE1ivche"
      }
    },
    {
      "cell_type": "code",
      "source": [
        "df.isnull().any()"
      ],
      "metadata": {
        "id": "kAMeNsEWssA6"
      },
      "execution_count": null,
      "outputs": []
    },
    {
      "cell_type": "code",
      "source": [
        "df=df.drop(columns ='Unnamed: 0')"
      ],
      "metadata": {
        "id": "Q7ocW3L0FzUe"
      },
      "execution_count": null,
      "outputs": []
    }
  ]
}